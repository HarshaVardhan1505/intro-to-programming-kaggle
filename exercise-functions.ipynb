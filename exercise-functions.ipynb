{
 "cells": [
  {
   "cell_type": "markdown",
   "id": "72aeb9a5",
   "metadata": {
    "papermill": {
     "duration": 0.006318,
     "end_time": "2024-09-27T11:51:48.271424",
     "exception": false,
     "start_time": "2024-09-27T11:51:48.265106",
     "status": "completed"
    },
    "tags": []
   },
   "source": [
    "**This notebook is an exercise in the [Intro to Programming](https://www.kaggle.com/learn/intro-to-programming) course.  You can reference the tutorial at [this link](https://www.kaggle.com/alexisbcook/functions).**\n",
    "\n",
    "---\n"
   ]
  },
  {
   "cell_type": "markdown",
   "id": "ae143f96",
   "metadata": {
    "papermill": {
     "duration": 0.005253,
     "end_time": "2024-09-27T11:51:48.282436",
     "exception": false,
     "start_time": "2024-09-27T11:51:48.277183",
     "status": "completed"
    },
    "tags": []
   },
   "source": [
    "In the tutorial, you learned about functions. In this exercise, you'll write some of your own!\n",
    "\n",
    "# Set up the notebook\n",
    "\n",
    "Run the next code cell without changes to set up the notebook."
   ]
  },
  {
   "cell_type": "code",
   "execution_count": 1,
   "id": "e135e6a3",
   "metadata": {
    "execution": {
     "iopub.execute_input": "2024-09-27T11:51:48.296133Z",
     "iopub.status.busy": "2024-09-27T11:51:48.295044Z",
     "iopub.status.idle": "2024-09-27T11:51:49.255233Z",
     "shell.execute_reply": "2024-09-27T11:51:49.254143Z"
    },
    "papermill": {
     "duration": 0.96959,
     "end_time": "2024-09-27T11:51:49.257614",
     "exception": false,
     "start_time": "2024-09-27T11:51:48.288024",
     "status": "completed"
    },
    "tags": []
   },
   "outputs": [
    {
     "name": "stdout",
     "output_type": "stream",
     "text": [
      "Setup complete.\n"
     ]
    }
   ],
   "source": [
    "# Set up the exercise\n",
    "import math\n",
    "from learntools.core import binder\n",
    "binder.bind(globals())\n",
    "from learntools.intro_to_programming.ex2 import *\n",
    "print('Setup complete.')"
   ]
  },
  {
   "cell_type": "markdown",
   "id": "3abadd3c",
   "metadata": {
    "papermill": {
     "duration": 0.005517,
     "end_time": "2024-09-27T11:51:49.269079",
     "exception": false,
     "start_time": "2024-09-27T11:51:49.263562",
     "status": "completed"
    },
    "tags": []
   },
   "source": [
    "# Question 1\n",
    "\n",
    "In the [House Prices - Advanced Regression Techniques competition](https://www.kaggle.com/c/house-prices-advanced-regression-techniques/overview), you need to use information like the number of bedrooms and bathrooms to predict the price of a house.  Inspired by this competition, you'll write your own function to do this.\n",
    "\n",
    "In the next code cell, create a function `get_expected_cost()` that has two arguments:\n",
    "- `beds` - number of bedrooms \n",
    "- `baths` - number of bathrooms\n",
    "\n",
    "It should return the expected cost of a house with that number of bedrooms and bathrooms.  Assume that:\n",
    "- the expected cost for a house with 0 bedrooms and 0 bathrooms is `80000`.  \n",
    "- each bedroom adds `30000` to the expected cost\n",
    "- each bathroom adds `10000` to the expected cost.\n",
    "\n",
    "For instance, \n",
    "- a house with 1 bedroom and 1 bathroom has an expected cost of `120000`, and \n",
    "- a house with 2 bedrooms and 1 bathroom has an expected cost of `150000`."
   ]
  },
  {
   "cell_type": "code",
   "execution_count": 2,
   "id": "49e42fd4",
   "metadata": {
    "execution": {
     "iopub.execute_input": "2024-09-27T11:51:49.283008Z",
     "iopub.status.busy": "2024-09-27T11:51:49.282467Z",
     "iopub.status.idle": "2024-09-27T11:51:49.294488Z",
     "shell.execute_reply": "2024-09-27T11:51:49.293319Z"
    },
    "papermill": {
     "duration": 0.021886,
     "end_time": "2024-09-27T11:51:49.296649",
     "exception": false,
     "start_time": "2024-09-27T11:51:49.274763",
     "status": "completed"
    },
    "tags": []
   },
   "outputs": [
    {
     "data": {
      "application/javascript": [
       "parent.postMessage({\"jupyterEvent\": \"custom.exercise_interaction\", \"data\": {\"outcomeType\": 1, \"valueTowardsCompletion\": 0.2, \"interactionType\": 1, \"questionType\": 2, \"questionId\": \"1_GetExpectedCost\", \"learnToolsVersion\": \"0.3.4\", \"failureMessage\": \"\", \"exceptionClass\": \"\", \"trace\": \"\"}}, \"*\")"
      ],
      "text/plain": [
       "<IPython.core.display.Javascript object>"
      ]
     },
     "metadata": {},
     "output_type": "display_data"
    },
    {
     "data": {
      "text/markdown": [
       "<span style=\"color:#33cc33\">Correct</span>"
      ],
      "text/plain": [
       "Correct"
      ]
     },
     "metadata": {},
     "output_type": "display_data"
    }
   ],
   "source": [
    "# TODO: Complete the function\n",
    "def get_expected_cost(beds, baths):\n",
    "    value = 80000 + 30000 * beds + 10000 * baths\n",
    "    return value\n",
    "\n",
    "# Check your answer \n",
    "q1.check()"
   ]
  },
  {
   "cell_type": "code",
   "execution_count": 3,
   "id": "49b154f9",
   "metadata": {
    "execution": {
     "iopub.execute_input": "2024-09-27T11:51:49.310070Z",
     "iopub.status.busy": "2024-09-27T11:51:49.309645Z",
     "iopub.status.idle": "2024-09-27T11:51:49.314241Z",
     "shell.execute_reply": "2024-09-27T11:51:49.313239Z"
    },
    "papermill": {
     "duration": 0.013998,
     "end_time": "2024-09-27T11:51:49.316583",
     "exception": false,
     "start_time": "2024-09-27T11:51:49.302585",
     "status": "completed"
    },
    "tags": []
   },
   "outputs": [],
   "source": [
    "# Uncomment to see a hint\n",
    "#q1.hint()\n",
    "\n",
    "# Uncomment to view the solution\n",
    "#q1.solution()"
   ]
  },
  {
   "cell_type": "markdown",
   "id": "032fd88a",
   "metadata": {
    "papermill": {
     "duration": 0.005872,
     "end_time": "2024-09-27T11:51:49.329405",
     "exception": false,
     "start_time": "2024-09-27T11:51:49.323533",
     "status": "completed"
    },
    "tags": []
   },
   "source": [
    "# Question 2\n",
    "\n",
    "You are thinking about buying a home and want to get an idea of how much you will spend, based on the number of bedrooms and bathrooms.  You are trying to decide between four different options:\n",
    "- Option 1: house with two bedrooms and three bathrooms\n",
    "- Option 2: house with three bedrooms and two bathrooms\n",
    "- Option 3: house with three bedrooms and three bathrooms\n",
    "- Option 4: house with three bedrooms and four bathrooms\n",
    "\n",
    "Use the `get_expected_cost()` function you defined in question 1 to set `option_1`, `option_2`, `option_3`, and `option_4` to the expected cost of each option."
   ]
  },
  {
   "cell_type": "code",
   "execution_count": 4,
   "id": "b60c3992",
   "metadata": {
    "execution": {
     "iopub.execute_input": "2024-09-27T11:51:49.343683Z",
     "iopub.status.busy": "2024-09-27T11:51:49.342699Z",
     "iopub.status.idle": "2024-09-27T11:51:49.353064Z",
     "shell.execute_reply": "2024-09-27T11:51:49.352035Z"
    },
    "papermill": {
     "duration": 0.019902,
     "end_time": "2024-09-27T11:51:49.355288",
     "exception": false,
     "start_time": "2024-09-27T11:51:49.335386",
     "status": "completed"
    },
    "tags": []
   },
   "outputs": [
    {
     "name": "stdout",
     "output_type": "stream",
     "text": [
      "170000\n",
      "190000\n",
      "200000\n",
      "210000\n"
     ]
    },
    {
     "data": {
      "application/javascript": [
       "parent.postMessage({\"jupyterEvent\": \"custom.exercise_interaction\", \"data\": {\"outcomeType\": 1, \"valueTowardsCompletion\": 0.2, \"interactionType\": 1, \"questionType\": 1, \"questionId\": \"2_RunGetExpectedCost\", \"learnToolsVersion\": \"0.3.4\", \"failureMessage\": \"\", \"exceptionClass\": \"\", \"trace\": \"\"}}, \"*\")"
      ],
      "text/plain": [
       "<IPython.core.display.Javascript object>"
      ]
     },
     "metadata": {},
     "output_type": "display_data"
    },
    {
     "data": {
      "text/markdown": [
       "<span style=\"color:#33cc33\">Correct</span>"
      ],
      "text/plain": [
       "Correct"
      ]
     },
     "metadata": {},
     "output_type": "display_data"
    }
   ],
   "source": [
    "# TODO: Use the get_expected_cost function to fill in each value\n",
    "option_one = get_expected_cost(2,3)\n",
    "option_two = get_expected_cost(3,2)\n",
    "option_three = get_expected_cost(3,3)\n",
    "option_four = get_expected_cost(3,4)\n",
    "\n",
    "print(option_one)\n",
    "print(option_two)\n",
    "print(option_three)\n",
    "print(option_four)\n",
    "\n",
    "# Check your answer\n",
    "q2.check()"
   ]
  },
  {
   "cell_type": "code",
   "execution_count": 5,
   "id": "6e68287b",
   "metadata": {
    "execution": {
     "iopub.execute_input": "2024-09-27T11:51:49.370399Z",
     "iopub.status.busy": "2024-09-27T11:51:49.369968Z",
     "iopub.status.idle": "2024-09-27T11:51:49.374880Z",
     "shell.execute_reply": "2024-09-27T11:51:49.373828Z"
    },
    "papermill": {
     "duration": 0.015189,
     "end_time": "2024-09-27T11:51:49.377412",
     "exception": false,
     "start_time": "2024-09-27T11:51:49.362223",
     "status": "completed"
    },
    "tags": []
   },
   "outputs": [],
   "source": [
    "# Uncomment to see a hint\n",
    "#q2.hint()\n",
    "\n",
    "# Uncomment to view the solution\n",
    "#q2.solution()"
   ]
  },
  {
   "cell_type": "markdown",
   "id": "0463a011",
   "metadata": {
    "papermill": {
     "duration": 0.00612,
     "end_time": "2024-09-27T11:51:49.390124",
     "exception": false,
     "start_time": "2024-09-27T11:51:49.384004",
     "status": "completed"
    },
    "tags": []
   },
   "source": [
    "# Question 3\n",
    "\n",
    "You're a home decorator, and you'd like to use Python to streamline some of your work.  Specifically, you're creating a tool that you intend to use to calculate the cost of painting a room.\n",
    "\n",
    "As a first step, define a function `get_cost()` that takes as input:\n",
    "- `sqft_walls` = total square feet of walls to be painted\n",
    "- `sqft_ceiling` = square feet of ceiling to be painted\n",
    "- `sqft_per_gallon` = number of square feet that you can cover with one gallon of paint\n",
    "- `cost_per_gallon` = cost (in dollars) of one gallon of paint\n",
    "\n",
    "It should return the cost (in dollars) of putting one coat of paint on all walls and the ceiling.  Assume you can buy the exact amount of paint that you need, so you can buy partial gallons (e.g., if you need 7.523 gallons, you can buy that exact amount, instead of needing to buy 8 gallons and waste some paint).  Do not round your answer."
   ]
  },
  {
   "cell_type": "code",
   "execution_count": 6,
   "id": "3583f8fc",
   "metadata": {
    "execution": {
     "iopub.execute_input": "2024-09-27T11:51:49.404483Z",
     "iopub.status.busy": "2024-09-27T11:51:49.404094Z",
     "iopub.status.idle": "2024-09-27T11:51:49.413609Z",
     "shell.execute_reply": "2024-09-27T11:51:49.412524Z"
    },
    "papermill": {
     "duration": 0.019736,
     "end_time": "2024-09-27T11:51:49.416162",
     "exception": false,
     "start_time": "2024-09-27T11:51:49.396426",
     "status": "completed"
    },
    "tags": []
   },
   "outputs": [
    {
     "data": {
      "application/javascript": [
       "parent.postMessage({\"jupyterEvent\": \"custom.exercise_interaction\", \"data\": {\"outcomeType\": 1, \"valueTowardsCompletion\": 0.2, \"interactionType\": 1, \"questionType\": 2, \"questionId\": \"3_GetCostPaint\", \"learnToolsVersion\": \"0.3.4\", \"failureMessage\": \"\", \"exceptionClass\": \"\", \"trace\": \"\"}}, \"*\")"
      ],
      "text/plain": [
       "<IPython.core.display.Javascript object>"
      ]
     },
     "metadata": {},
     "output_type": "display_data"
    },
    {
     "data": {
      "text/markdown": [
       "<span style=\"color:#33cc33\">Correct</span>"
      ],
      "text/plain": [
       "Correct"
      ]
     },
     "metadata": {},
     "output_type": "display_data"
    }
   ],
   "source": [
    "# TODO: Finish defining the function\n",
    "def get_cost(sqft_walls, sqft_ceiling, sqft_per_gallon, cost_per_gallon):\n",
    "    cost = float(sqft_walls + sqft_ceiling) / sqft_per_gallon * cost_per_gallon\n",
    "    return cost\n",
    "\n",
    "# Check your answer\n",
    "q3.check()"
   ]
  },
  {
   "cell_type": "code",
   "execution_count": 7,
   "id": "6fc6e93b",
   "metadata": {
    "execution": {
     "iopub.execute_input": "2024-09-27T11:51:49.431673Z",
     "iopub.status.busy": "2024-09-27T11:51:49.431239Z",
     "iopub.status.idle": "2024-09-27T11:51:49.436144Z",
     "shell.execute_reply": "2024-09-27T11:51:49.435004Z"
    },
    "papermill": {
     "duration": 0.015447,
     "end_time": "2024-09-27T11:51:49.438511",
     "exception": false,
     "start_time": "2024-09-27T11:51:49.423064",
     "status": "completed"
    },
    "tags": []
   },
   "outputs": [],
   "source": [
    "# Uncomment to see a hint\n",
    "#q3.hint()\n",
    "\n",
    "# Uncomment to view the solution\n",
    "#q3.solution()"
   ]
  },
  {
   "cell_type": "markdown",
   "id": "1f750b21",
   "metadata": {
    "papermill": {
     "duration": 0.006415,
     "end_time": "2024-09-27T11:51:49.452099",
     "exception": false,
     "start_time": "2024-09-27T11:51:49.445684",
     "status": "completed"
    },
    "tags": []
   },
   "source": [
    "# Question 4\n",
    "\n",
    "Use the `get_cost()` function you defined in Question 3 to calculate the cost of applying one coat of paint to a room with:\n",
    "- 432 square feet of walls, and\n",
    "- 144 square feet of ceiling.\n",
    "\n",
    "Assume that one gallon of paint covers 400 square feet and costs $15.  As in Question 3, assume you can buy partial gallons of paint.  Do not round your answer."
   ]
  },
  {
   "cell_type": "code",
   "execution_count": 8,
   "id": "89d3b0f6",
   "metadata": {
    "execution": {
     "iopub.execute_input": "2024-09-27T11:51:49.467153Z",
     "iopub.status.busy": "2024-09-27T11:51:49.466691Z",
     "iopub.status.idle": "2024-09-27T11:51:49.476010Z",
     "shell.execute_reply": "2024-09-27T11:51:49.475016Z"
    },
    "papermill": {
     "duration": 0.019744,
     "end_time": "2024-09-27T11:51:49.478414",
     "exception": false,
     "start_time": "2024-09-27T11:51:49.458670",
     "status": "completed"
    },
    "tags": []
   },
   "outputs": [
    {
     "data": {
      "application/javascript": [
       "parent.postMessage({\"jupyterEvent\": \"custom.exercise_interaction\", \"data\": {\"outcomeType\": 1, \"valueTowardsCompletion\": 0.2, \"interactionType\": 1, \"questionType\": 1, \"questionId\": \"4_GetCostPaintExample\", \"learnToolsVersion\": \"0.3.4\", \"failureMessage\": \"\", \"exceptionClass\": \"\", \"trace\": \"\"}}, \"*\")"
      ],
      "text/plain": [
       "<IPython.core.display.Javascript object>"
      ]
     },
     "metadata": {},
     "output_type": "display_data"
    },
    {
     "data": {
      "text/markdown": [
       "<span style=\"color:#33cc33\">Correct</span>"
      ],
      "text/plain": [
       "Correct"
      ]
     },
     "metadata": {},
     "output_type": "display_data"
    }
   ],
   "source": [
    "# TODO: Set the project_cost variable to the cost of the project\n",
    "project_cost = get_cost(432,144,400,15)\n",
    "\n",
    "# Check your answer\n",
    "q4.check()"
   ]
  },
  {
   "cell_type": "code",
   "execution_count": 9,
   "id": "95ff7c31",
   "metadata": {
    "execution": {
     "iopub.execute_input": "2024-09-27T11:51:49.494024Z",
     "iopub.status.busy": "2024-09-27T11:51:49.493611Z",
     "iopub.status.idle": "2024-09-27T11:51:49.498269Z",
     "shell.execute_reply": "2024-09-27T11:51:49.497174Z"
    },
    "papermill": {
     "duration": 0.015285,
     "end_time": "2024-09-27T11:51:49.500608",
     "exception": false,
     "start_time": "2024-09-27T11:51:49.485323",
     "status": "completed"
    },
    "tags": []
   },
   "outputs": [],
   "source": [
    "# Uncomment to see a hint\n",
    "#q4.hint()\n",
    "\n",
    "# Uncomment to view the solution\n",
    "#q4.solution()"
   ]
  },
  {
   "cell_type": "markdown",
   "id": "b437632a",
   "metadata": {
    "papermill": {
     "duration": 0.006587,
     "end_time": "2024-09-27T11:51:49.514216",
     "exception": false,
     "start_time": "2024-09-27T11:51:49.507629",
     "status": "completed"
    },
    "tags": []
   },
   "source": [
    "# 🌶️ Question 5\n",
    "\n",
    "Now say you can no longer buy fractions of a gallon.  (For instance, if you need 4.3 gallons to do a project, then you have to buy 5 gallons of paint.)\n",
    "\n",
    "With this new scenario, you will create a new function `get_actual_cost` that uses the same inputs and calculates the cost of your project.\n",
    "\n",
    "One function that you'll need to use to do this is `math.ceil()`.  We demonstrate usage of this function in the code cell below.  It takes as a number as input and rounds the number up to the nearest integer.  \n",
    "\n",
    "Run the next code cell to test this function for yourself.  Feel free to change the value of `test_value` and make sure `math.ceil()` returns the number you expect."
   ]
  },
  {
   "cell_type": "code",
   "execution_count": 10,
   "id": "f0cb8f1e",
   "metadata": {
    "execution": {
     "iopub.execute_input": "2024-09-27T11:51:49.529651Z",
     "iopub.status.busy": "2024-09-27T11:51:49.529275Z",
     "iopub.status.idle": "2024-09-27T11:51:49.535073Z",
     "shell.execute_reply": "2024-09-27T11:51:49.533867Z"
    },
    "papermill": {
     "duration": 0.016483,
     "end_time": "2024-09-27T11:51:49.537531",
     "exception": false,
     "start_time": "2024-09-27T11:51:49.521048",
     "status": "completed"
    },
    "tags": []
   },
   "outputs": [
    {
     "name": "stdout",
     "output_type": "stream",
     "text": [
      "3\n"
     ]
    }
   ],
   "source": [
    "test_value = 2.17\n",
    "\n",
    "rounded_value = math.ceil(test_value)\n",
    "print(rounded_value)"
   ]
  },
  {
   "cell_type": "markdown",
   "id": "e4e435b1",
   "metadata": {
    "papermill": {
     "duration": 0.006684,
     "end_time": "2024-09-27T11:51:49.551173",
     "exception": false,
     "start_time": "2024-09-27T11:51:49.544489",
     "status": "completed"
    },
    "tags": []
   },
   "source": [
    "Use the next code cell to define the function `get_actual_cost()`.  You'll need to use the `math.ceil()` function to do this.\n",
    "\n",
    "When answering this question, note that it's completely valid to define a function that makes use of another function.  For instance, we can define a function `round_up_and_divide_by_three` that makes use of the `math.ceil` function:\n",
    "```\n",
    "def round_up_and_divide_by_three(num):\n",
    "    new_value = math.ceil(num)\n",
    "    final_value = new_value / 3\n",
    "    return final_value\n",
    "```"
   ]
  },
  {
   "cell_type": "code",
   "execution_count": 11,
   "id": "b5c5bead",
   "metadata": {
    "execution": {
     "iopub.execute_input": "2024-09-27T11:51:49.567373Z",
     "iopub.status.busy": "2024-09-27T11:51:49.566975Z",
     "iopub.status.idle": "2024-09-27T11:51:49.576423Z",
     "shell.execute_reply": "2024-09-27T11:51:49.575206Z"
    },
    "papermill": {
     "duration": 0.020156,
     "end_time": "2024-09-27T11:51:49.578710",
     "exception": false,
     "start_time": "2024-09-27T11:51:49.558554",
     "status": "completed"
    },
    "tags": []
   },
   "outputs": [
    {
     "data": {
      "application/javascript": [
       "parent.postMessage({\"jupyterEvent\": \"custom.exercise_interaction\", \"data\": {\"outcomeType\": 1, \"valueTowardsCompletion\": 0.2, \"interactionType\": 1, \"questionType\": 2, \"questionId\": \"5_NoMoreFractions\", \"learnToolsVersion\": \"0.3.4\", \"failureMessage\": \"\", \"exceptionClass\": \"\", \"trace\": \"\"}}, \"*\")"
      ],
      "text/plain": [
       "<IPython.core.display.Javascript object>"
      ]
     },
     "metadata": {},
     "output_type": "display_data"
    },
    {
     "data": {
      "text/markdown": [
       "<span style=\"color:#33cc33\">Correct</span>"
      ],
      "text/plain": [
       "Correct"
      ]
     },
     "metadata": {},
     "output_type": "display_data"
    }
   ],
   "source": [
    "def get_actual_cost(sqft_walls, sqft_ceiling, sqft_per_gallon, cost_per_gallon):\n",
    "    cost = math.ceil((sqft_walls + sqft_ceiling) / sqft_per_gallon) * cost_per_gallon\n",
    "    return cost\n",
    "\n",
    "# Check your answer\n",
    "q5.check()"
   ]
  },
  {
   "cell_type": "code",
   "execution_count": 12,
   "id": "fbed8697",
   "metadata": {
    "execution": {
     "iopub.execute_input": "2024-09-27T11:51:49.594854Z",
     "iopub.status.busy": "2024-09-27T11:51:49.594446Z",
     "iopub.status.idle": "2024-09-27T11:51:49.598941Z",
     "shell.execute_reply": "2024-09-27T11:51:49.597870Z"
    },
    "papermill": {
     "duration": 0.015379,
     "end_time": "2024-09-27T11:51:49.601285",
     "exception": false,
     "start_time": "2024-09-27T11:51:49.585906",
     "status": "completed"
    },
    "tags": []
   },
   "outputs": [],
   "source": [
    "# Uncomment to see a hint\n",
    "#q5.hint()\n",
    "\n",
    "# Uncomment to view the solution\n",
    "#q5.solution()"
   ]
  },
  {
   "cell_type": "markdown",
   "id": "b38d6ad0",
   "metadata": {
    "papermill": {
     "duration": 0.006981,
     "end_time": "2024-09-27T11:51:49.616817",
     "exception": false,
     "start_time": "2024-09-27T11:51:49.609836",
     "status": "completed"
    },
    "tags": []
   },
   "source": [
    "Once your function is verified as correct, run the next code cell to calculate the updated cost of your project."
   ]
  },
  {
   "cell_type": "code",
   "execution_count": 13,
   "id": "5d9f72c8",
   "metadata": {
    "execution": {
     "iopub.execute_input": "2024-09-27T11:51:49.632965Z",
     "iopub.status.busy": "2024-09-27T11:51:49.632504Z",
     "iopub.status.idle": "2024-09-27T11:51:49.640007Z",
     "shell.execute_reply": "2024-09-27T11:51:49.638754Z"
    },
    "papermill": {
     "duration": 0.01889,
     "end_time": "2024-09-27T11:51:49.642893",
     "exception": false,
     "start_time": "2024-09-27T11:51:49.624003",
     "status": "completed"
    },
    "tags": []
   },
   "outputs": [
    {
     "data": {
      "text/plain": [
       "30"
      ]
     },
     "execution_count": 13,
     "metadata": {},
     "output_type": "execute_result"
    }
   ],
   "source": [
    "get_actual_cost(432, 144, 400, 15) "
   ]
  },
  {
   "cell_type": "markdown",
   "id": "3d0942e6",
   "metadata": {
    "papermill": {
     "duration": 0.007263,
     "end_time": "2024-09-27T11:51:49.657839",
     "exception": false,
     "start_time": "2024-09-27T11:51:49.650576",
     "status": "completed"
    },
    "tags": []
   },
   "source": [
    "Say you're working with a slightly larger room.  Run the next code cell to calculate the cost of the project."
   ]
  },
  {
   "cell_type": "code",
   "execution_count": 14,
   "id": "36094f64",
   "metadata": {
    "execution": {
     "iopub.execute_input": "2024-09-27T11:51:49.675715Z",
     "iopub.status.busy": "2024-09-27T11:51:49.674777Z",
     "iopub.status.idle": "2024-09-27T11:51:49.682450Z",
     "shell.execute_reply": "2024-09-27T11:51:49.681237Z"
    },
    "papermill": {
     "duration": 0.019522,
     "end_time": "2024-09-27T11:51:49.685191",
     "exception": false,
     "start_time": "2024-09-27T11:51:49.665669",
     "status": "completed"
    },
    "tags": []
   },
   "outputs": [
    {
     "data": {
      "text/plain": [
       "45"
      ]
     },
     "execution_count": 14,
     "metadata": {},
     "output_type": "execute_result"
    }
   ],
   "source": [
    "get_actual_cost(594, 288, 400, 15) "
   ]
  },
  {
   "cell_type": "markdown",
   "id": "1192e803",
   "metadata": {
    "papermill": {
     "duration": 0.007337,
     "end_time": "2024-09-27T11:51:49.699991",
     "exception": false,
     "start_time": "2024-09-27T11:51:49.692654",
     "status": "completed"
    },
    "tags": []
   },
   "source": [
    "# Keep going\n",
    "\n",
    "Continue to learn about **[data types](https://www.kaggle.com/alexisbcook/data-types)**."
   ]
  },
  {
   "cell_type": "markdown",
   "id": "14008fde",
   "metadata": {
    "papermill": {
     "duration": 0.007185,
     "end_time": "2024-09-27T11:51:49.714577",
     "exception": false,
     "start_time": "2024-09-27T11:51:49.707392",
     "status": "completed"
    },
    "tags": []
   },
   "source": [
    "---\n",
    "\n",
    "\n",
    "\n",
    "\n",
    "*Have questions or comments? Visit the [course discussion forum](https://www.kaggle.com/learn/intro-to-programming/discussion) to chat with other learners.*"
   ]
  }
 ],
 "metadata": {
  "kaggle": {
   "accelerator": "none",
   "dataSources": [],
   "isGpuEnabled": false,
   "isInternetEnabled": false,
   "language": "python",
   "sourceType": "notebook"
  },
  "kernelspec": {
   "display_name": "Python 3",
   "language": "python",
   "name": "python3"
  },
  "language_info": {
   "codemirror_mode": {
    "name": "ipython",
    "version": 3
   },
   "file_extension": ".py",
   "mimetype": "text/x-python",
   "name": "python",
   "nbconvert_exporter": "python",
   "pygments_lexer": "ipython3",
   "version": "3.10.14"
  },
  "papermill": {
   "default_parameters": {},
   "duration": 4.882678,
   "end_time": "2024-09-27T11:51:50.242870",
   "environment_variables": {},
   "exception": null,
   "input_path": "__notebook__.ipynb",
   "output_path": "__notebook__.ipynb",
   "parameters": {},
   "start_time": "2024-09-27T11:51:45.360192",
   "version": "2.6.0"
  }
 },
 "nbformat": 4,
 "nbformat_minor": 5
}
