{
 "cells": [
  {
   "cell_type": "markdown",
   "id": "69cb80e1",
   "metadata": {
    "papermill": {
     "duration": 0.007267,
     "end_time": "2024-09-27T11:58:57.927820",
     "exception": false,
     "start_time": "2024-09-27T11:58:57.920553",
     "status": "completed"
    },
    "tags": []
   },
   "source": [
    "**This notebook is an exercise in the [Intro to Programming](https://www.kaggle.com/learn/intro-to-programming) course.  You can reference the tutorial at [this link](https://www.kaggle.com/alexisbcook/data-types).**\n",
    "\n",
    "---\n"
   ]
  },
  {
   "cell_type": "markdown",
   "id": "6aab3cfa",
   "metadata": {
    "papermill": {
     "duration": 0.005872,
     "end_time": "2024-09-27T11:58:57.940756",
     "exception": false,
     "start_time": "2024-09-27T11:58:57.934884",
     "status": "completed"
    },
    "tags": []
   },
   "source": [
    "In the tutorial, you learned about four different data types: floats, integers, strings, and booleans.  In this exercise, you'll experiment with them.\n",
    "\n",
    "# Set up the notebook\n",
    "\n",
    "Run the next code cell without changes to set up the notebook."
   ]
  },
  {
   "cell_type": "code",
   "execution_count": 1,
   "id": "ca23e34b",
   "metadata": {
    "execution": {
     "iopub.execute_input": "2024-09-27T11:58:57.954530Z",
     "iopub.status.busy": "2024-09-27T11:58:57.954108Z",
     "iopub.status.idle": "2024-09-27T11:58:58.928538Z",
     "shell.execute_reply": "2024-09-27T11:58:58.927363Z"
    },
    "papermill": {
     "duration": 0.984493,
     "end_time": "2024-09-27T11:58:58.931309",
     "exception": false,
     "start_time": "2024-09-27T11:58:57.946816",
     "status": "completed"
    },
    "tags": []
   },
   "outputs": [
    {
     "name": "stdout",
     "output_type": "stream",
     "text": [
      "Setup complete.\n"
     ]
    }
   ],
   "source": [
    "# Set up the exercise\n",
    "from learntools.core import binder\n",
    "binder.bind(globals())\n",
    "from learntools.intro_to_programming.ex3 import *\n",
    "print('Setup complete.')"
   ]
  },
  {
   "cell_type": "markdown",
   "id": "e7c3fda8",
   "metadata": {
    "papermill": {
     "duration": 0.005876,
     "end_time": "2024-09-27T11:58:58.943552",
     "exception": false,
     "start_time": "2024-09-27T11:58:58.937676",
     "status": "completed"
    },
    "tags": []
   },
   "source": [
    "# Question 1\n",
    "\n",
    "You have seen how to convert a float to an integer with the `int` function.  Try this out yourself by running the code cell below."
   ]
  },
  {
   "cell_type": "code",
   "execution_count": 2,
   "id": "c9fe13fb",
   "metadata": {
    "execution": {
     "iopub.execute_input": "2024-09-27T11:58:58.957990Z",
     "iopub.status.busy": "2024-09-27T11:58:58.957458Z",
     "iopub.status.idle": "2024-09-27T11:58:58.964173Z",
     "shell.execute_reply": "2024-09-27T11:58:58.962925Z"
    },
    "papermill": {
     "duration": 0.016853,
     "end_time": "2024-09-27T11:58:58.966541",
     "exception": false,
     "start_time": "2024-09-27T11:58:58.949688",
     "status": "completed"
    },
    "tags": []
   },
   "outputs": [
    {
     "name": "stdout",
     "output_type": "stream",
     "text": [
      "1.0\n",
      "<class 'float'>\n",
      "1\n",
      "<class 'int'>\n"
     ]
    }
   ],
   "source": [
    "# Define a float\n",
    "y = 1.\n",
    "print(y)\n",
    "print(type(y))\n",
    "\n",
    "# Convert float to integer with the int function\n",
    "z = int(y)\n",
    "print(z)\n",
    "print(type(z))"
   ]
  },
  {
   "cell_type": "markdown",
   "id": "be606524",
   "metadata": {
    "papermill": {
     "duration": 0.006003,
     "end_time": "2024-09-27T11:58:58.978806",
     "exception": false,
     "start_time": "2024-09-27T11:58:58.972803",
     "status": "completed"
    },
    "tags": []
   },
   "source": [
    "In this case, the float you are using has no numbers after the decimal.  \n",
    "- But what happens when you try to convert a float with a fractional part to an integer?  \n",
    "- How does the outcome of the `int` function change for positive and negative numbers?\n",
    "\n",
    "Use the next code cell to investigate and answer these questions.  Feel free to add or remove any lines of code -- it is your workspace!"
   ]
  },
  {
   "cell_type": "code",
   "execution_count": 3,
   "id": "99e20da6",
   "metadata": {
    "execution": {
     "iopub.execute_input": "2024-09-27T11:58:58.993858Z",
     "iopub.status.busy": "2024-09-27T11:58:58.993465Z",
     "iopub.status.idle": "2024-09-27T11:58:58.999771Z",
     "shell.execute_reply": "2024-09-27T11:58:58.998561Z"
    },
    "papermill": {
     "duration": 0.016344,
     "end_time": "2024-09-27T11:58:59.002275",
     "exception": false,
     "start_time": "2024-09-27T11:58:58.985931",
     "status": "completed"
    },
    "tags": []
   },
   "outputs": [
    {
     "name": "stdout",
     "output_type": "stream",
     "text": [
      "1\n",
      "1\n",
      "-3\n",
      "-2\n"
     ]
    }
   ],
   "source": [
    "# Uncomment and run this code to get started!\n",
    "print(int(1.2321))\n",
    "print(int(1.747))\n",
    "print(int(-3.94535))\n",
    "print(int(-2.19774))"
   ]
  },
  {
   "cell_type": "markdown",
   "id": "25e0421c",
   "metadata": {
    "papermill": {
     "duration": 0.006132,
     "end_time": "2024-09-27T11:58:59.014739",
     "exception": false,
     "start_time": "2024-09-27T11:58:59.008607",
     "status": "completed"
    },
    "tags": []
   },
   "source": [
    "Once you have an answer, run the code cell below to see the solution.  Viewing the solution will give you credit for answering the problem."
   ]
  },
  {
   "cell_type": "code",
   "execution_count": 4,
   "id": "05ab13f1",
   "metadata": {
    "execution": {
     "iopub.execute_input": "2024-09-27T11:58:59.029244Z",
     "iopub.status.busy": "2024-09-27T11:58:59.028828Z",
     "iopub.status.idle": "2024-09-27T11:58:59.039943Z",
     "shell.execute_reply": "2024-09-27T11:58:59.038708Z"
    },
    "papermill": {
     "duration": 0.021331,
     "end_time": "2024-09-27T11:58:59.042548",
     "exception": false,
     "start_time": "2024-09-27T11:58:59.021217",
     "status": "completed"
    },
    "tags": []
   },
   "outputs": [
    {
     "data": {
      "application/javascript": [
       "parent.postMessage({\"jupyterEvent\": \"custom.exercise_interaction\", \"data\": {\"outcomeType\": 1, \"valueTowardsCompletion\": 0.2, \"interactionType\": 1, \"questionType\": 4, \"questionId\": \"1_FloatToInt\", \"learnToolsVersion\": \"0.3.4\", \"failureMessage\": \"\", \"exceptionClass\": \"\", \"trace\": \"\"}}, \"*\")"
      ],
      "text/plain": [
       "<IPython.core.display.Javascript object>"
      ]
     },
     "metadata": {},
     "output_type": "display_data"
    },
    {
     "data": {
      "text/markdown": [
       "<span style=\"color:#33cc33\">Correct:</span> \n",
       "\n",
       "Negative floats are always rounded UP to the closest integer (for instance, both -1.1 and -1.9 are rounded up to -1). Positive floats are always rounded DOWN to the closest integer (for instance, 2.1 and 2.9 are rounded down to 2)."
      ],
      "text/plain": [
       "Correct: \n",
       "\n",
       "Negative floats are always rounded UP to the closest integer (for instance, both -1.1 and -1.9 are rounded up to -1). Positive floats are always rounded DOWN to the closest integer (for instance, 2.1 and 2.9 are rounded down to 2)."
      ]
     },
     "metadata": {},
     "output_type": "display_data"
    }
   ],
   "source": [
    "# Check your answer (Run this code cell to receive credit!)\n",
    "q1.check()"
   ]
  },
  {
   "cell_type": "markdown",
   "id": "4533114e",
   "metadata": {
    "papermill": {
     "duration": 0.006351,
     "end_time": "2024-09-27T11:58:59.055592",
     "exception": false,
     "start_time": "2024-09-27T11:58:59.049241",
     "status": "completed"
    },
    "tags": []
   },
   "source": [
    "# Question 2\n",
    "\n",
    "In the tutorial, you learned about booleans (which can take a value of `True` or `False`), in addition to integers, floats, and strings.  For this question, your goal is to determine what happens when you multiply a boolean by any of these data types.  Specifically, \n",
    "- What happens when you multiply an integer or float by `True`?  What happens when you multiply them by `False`?  How does the answer change if the numbers are positive or negative?\n",
    "- What happens when you multiply a string by `True`?  By `False`?\n",
    "\n",
    "Use the next code cell for your investigation. "
   ]
  },
  {
   "cell_type": "code",
   "execution_count": 5,
   "id": "92d9f867",
   "metadata": {
    "execution": {
     "iopub.execute_input": "2024-09-27T11:58:59.071040Z",
     "iopub.status.busy": "2024-09-27T11:58:59.070639Z",
     "iopub.status.idle": "2024-09-27T11:58:59.077933Z",
     "shell.execute_reply": "2024-09-27T11:58:59.076461Z"
    },
    "papermill": {
     "duration": 0.018078,
     "end_time": "2024-09-27T11:58:59.080308",
     "exception": false,
     "start_time": "2024-09-27T11:58:59.062230",
     "status": "completed"
    },
    "tags": []
   },
   "outputs": [
    {
     "name": "stdout",
     "output_type": "stream",
     "text": [
      "3\n",
      "-3.1\n",
      "<class 'str'>\n",
      "0\n"
     ]
    }
   ],
   "source": [
    "# Uncomment and run this code to get started!\n",
    "print(3 * True)\n",
    "print(-3.1 * True)\n",
    "print(type(\"abc\" * False))\n",
    "print(len(\"abc\" * False))"
   ]
  },
  {
   "cell_type": "markdown",
   "id": "ca0b0324",
   "metadata": {
    "papermill": {
     "duration": 0.006468,
     "end_time": "2024-09-27T11:58:59.093688",
     "exception": false,
     "start_time": "2024-09-27T11:58:59.087220",
     "status": "completed"
    },
    "tags": []
   },
   "source": [
    "Once you have an answer, run the code cell below to see the solution.  Viewing the solution will give you credit for answering the problem."
   ]
  },
  {
   "cell_type": "code",
   "execution_count": 6,
   "id": "a3105904",
   "metadata": {
    "execution": {
     "iopub.execute_input": "2024-09-27T11:58:59.108888Z",
     "iopub.status.busy": "2024-09-27T11:58:59.108472Z",
     "iopub.status.idle": "2024-09-27T11:58:59.118298Z",
     "shell.execute_reply": "2024-09-27T11:58:59.116955Z"
    },
    "papermill": {
     "duration": 0.020242,
     "end_time": "2024-09-27T11:58:59.120707",
     "exception": false,
     "start_time": "2024-09-27T11:58:59.100465",
     "status": "completed"
    },
    "tags": []
   },
   "outputs": [
    {
     "data": {
      "application/javascript": [
       "parent.postMessage({\"jupyterEvent\": \"custom.exercise_interaction\", \"data\": {\"outcomeType\": 1, \"valueTowardsCompletion\": 0.2, \"interactionType\": 1, \"questionType\": 4, \"questionId\": \"2_MultiplyBooleans\", \"learnToolsVersion\": \"0.3.4\", \"failureMessage\": \"\", \"exceptionClass\": \"\", \"trace\": \"\"}}, \"*\")"
      ],
      "text/plain": [
       "<IPython.core.display.Javascript object>"
      ]
     },
     "metadata": {},
     "output_type": "display_data"
    },
    {
     "data": {
      "text/markdown": [
       "<span style=\"color:#33cc33\">Correct:</span> \n",
       "\n",
       "When you multiple an integer or float by a boolean with value `True`, it just returns that same integer or float (and is equivalent to multiplying by 1).  If you multiply an integer or float by a boolean with value `False`, it always returns 0.  This is true for both positive and negative numbers.  If you multiply a string by a boolean with value `True`, it just returns that same string.  And if you multiply a string by a boolean with value `False`, it returns an empty string (or a string with length zero)."
      ],
      "text/plain": [
       "Correct: \n",
       "\n",
       "When you multiple an integer or float by a boolean with value `True`, it just returns that same integer or float (and is equivalent to multiplying by 1).  If you multiply an integer or float by a boolean with value `False`, it always returns 0.  This is true for both positive and negative numbers.  If you multiply a string by a boolean with value `True`, it just returns that same string.  And if you multiply a string by a boolean with value `False`, it returns an empty string (or a string with length zero)."
      ]
     },
     "metadata": {},
     "output_type": "display_data"
    }
   ],
   "source": [
    "# Check your answer (Run this code cell to receive credit!)\n",
    "q2.check()"
   ]
  },
  {
   "cell_type": "markdown",
   "id": "42118cd8",
   "metadata": {
    "papermill": {
     "duration": 0.006852,
     "end_time": "2024-09-27T11:58:59.134749",
     "exception": false,
     "start_time": "2024-09-27T11:58:59.127897",
     "status": "completed"
    },
    "tags": []
   },
   "source": [
    "# Question 3\n",
    "\n",
    "In this question, you will build off your work from the previous exercise to write a function that estimates the value of a house.\n",
    "\n",
    "Use the next code cell to create a function `get_expected_cost` that takes as input three variables:\n",
    "- `beds` - number of bedrooms (data type float)\n",
    "- `baths` - number of bathrooms (data type float)\n",
    "- `has_basement` - whether or not the house has a basement (data type boolean)\n",
    "\n",
    "It should return the expected cost of a house with those characteristics. Assume that:\n",
    "- the expected cost for a house with 0 bedrooms and 0 bathrooms, and no basement is 80000, \n",
    "- each bedroom adds 30000 to the expected cost,\n",
    "- each bathroom adds 10000 to the expected cost, and\n",
    "- a basement adds 40000 to the expected cost.\n",
    "\n",
    "For instance,\n",
    "- a house with 1 bedroom, 1 bathroom, and no basement has an expected cost of 80000 + 30000 + 10000 = 120000.  This value will be calculated with `get_expected_cost(1, 1, False)`.\n",
    "- a house with 2 bedrooms, 1 bathroom, and a basement has an expected cost of 80000 + 2*30000 + 10000 + 40000 = 190000.  This value will be calculated with `get_expected_cost(2, 1, True)`.\n",
    "\n",
    "Remember you can always get a hint by uncommenting `q3.hint()` in the code cell following the next!"
   ]
  },
  {
   "cell_type": "code",
   "execution_count": 7,
   "id": "3f890968",
   "metadata": {
    "execution": {
     "iopub.execute_input": "2024-09-27T11:58:59.151001Z",
     "iopub.status.busy": "2024-09-27T11:58:59.149945Z",
     "iopub.status.idle": "2024-09-27T11:58:59.159878Z",
     "shell.execute_reply": "2024-09-27T11:58:59.158595Z"
    },
    "papermill": {
     "duration": 0.020361,
     "end_time": "2024-09-27T11:58:59.162083",
     "exception": false,
     "start_time": "2024-09-27T11:58:59.141722",
     "status": "completed"
    },
    "tags": []
   },
   "outputs": [
    {
     "data": {
      "application/javascript": [
       "parent.postMessage({\"jupyterEvent\": \"custom.exercise_interaction\", \"data\": {\"outcomeType\": 1, \"valueTowardsCompletion\": 0.2, \"interactionType\": 1, \"questionType\": 2, \"questionId\": \"3_EstimateHouseValueBool\", \"learnToolsVersion\": \"0.3.4\", \"failureMessage\": \"\", \"exceptionClass\": \"\", \"trace\": \"\"}}, \"*\")"
      ],
      "text/plain": [
       "<IPython.core.display.Javascript object>"
      ]
     },
     "metadata": {},
     "output_type": "display_data"
    },
    {
     "data": {
      "text/markdown": [
       "<span style=\"color:#33cc33\">Correct</span>"
      ],
      "text/plain": [
       "Correct"
      ]
     },
     "metadata": {},
     "output_type": "display_data"
    }
   ],
   "source": [
    "# TODO: Complete the function\n",
    "def get_expected_cost(beds, baths, has_basement):\n",
    "    value = 80000+30000*beds+10000*baths+40000*has_basement\n",
    "    return value\n",
    "\n",
    "# Check your answer \n",
    "q3.check()"
   ]
  },
  {
   "cell_type": "code",
   "execution_count": 8,
   "id": "145b918f",
   "metadata": {
    "execution": {
     "iopub.execute_input": "2024-09-27T11:58:59.179280Z",
     "iopub.status.busy": "2024-09-27T11:58:59.178851Z",
     "iopub.status.idle": "2024-09-27T11:58:59.194139Z",
     "shell.execute_reply": "2024-09-27T11:58:59.192854Z"
    },
    "papermill": {
     "duration": 0.027251,
     "end_time": "2024-09-27T11:58:59.196750",
     "exception": false,
     "start_time": "2024-09-27T11:58:59.169499",
     "status": "completed"
    },
    "tags": []
   },
   "outputs": [
    {
     "data": {
      "application/javascript": [
       "parent.postMessage({\"jupyterEvent\": \"custom.exercise_interaction\", \"data\": {\"interactionType\": 2, \"questionType\": 2, \"questionId\": \"3_EstimateHouseValueBool\", \"learnToolsVersion\": \"0.3.4\", \"valueTowardsCompletion\": 0.0, \"failureMessage\": \"\", \"exceptionClass\": \"\", \"trace\": \"\", \"outcomeType\": 4}}, \"*\")"
      ],
      "text/plain": [
       "<IPython.core.display.Javascript object>"
      ]
     },
     "metadata": {},
     "output_type": "display_data"
    },
    {
     "data": {
      "text/markdown": [
       "<span style=\"color:#3366cc\">Hint:</span> The variable `has_basement` is either `True` or `False`.  What happens when you multiply it by 40000 (the value of a basement)?  Refer to the previous question if you are unsure."
      ],
      "text/plain": [
       "Hint: The variable `has_basement` is either `True` or `False`.  What happens when you multiply it by 40000 (the value of a basement)?  Refer to the previous question if you are unsure."
      ]
     },
     "metadata": {},
     "output_type": "display_data"
    },
    {
     "data": {
      "application/javascript": [
       "parent.postMessage({\"jupyterEvent\": \"custom.exercise_interaction\", \"data\": {\"interactionType\": 3, \"questionType\": 2, \"questionId\": \"3_EstimateHouseValueBool\", \"learnToolsVersion\": \"0.3.4\", \"valueTowardsCompletion\": 0.0, \"failureMessage\": \"\", \"exceptionClass\": \"\", \"trace\": \"\", \"outcomeType\": 4}}, \"*\")"
      ],
      "text/plain": [
       "<IPython.core.display.Javascript object>"
      ]
     },
     "metadata": {},
     "output_type": "display_data"
    },
    {
     "data": {
      "text/markdown": [
       "<span style=\"color:#33cc99\">Solution:</span> \n",
       "```python\n",
       "def get_expected_cost(beds, baths, has_basement):\n",
       "    value = 80000 + 30000 * beds + 10000 * baths + 40000 * has_basement\n",
       "    return value\n",
       "\n",
       "```"
      ],
      "text/plain": [
       "Solution: \n",
       "```python\n",
       "def get_expected_cost(beds, baths, has_basement):\n",
       "    value = 80000 + 30000 * beds + 10000 * baths + 40000 * has_basement\n",
       "    return value\n",
       "\n",
       "```"
      ]
     },
     "metadata": {},
     "output_type": "display_data"
    }
   ],
   "source": [
    "# Uncomment to see a hint\n",
    "q3.hint()\n",
    "\n",
    "# Uncomment to view the solution\n",
    "q3.solution()"
   ]
  },
  {
   "cell_type": "markdown",
   "id": "0dcc786f",
   "metadata": {
    "papermill": {
     "duration": 0.007464,
     "end_time": "2024-09-27T11:58:59.212150",
     "exception": false,
     "start_time": "2024-09-27T11:58:59.204686",
     "status": "completed"
    },
    "tags": []
   },
   "source": [
    "# Question 4\n",
    "\n",
    "We'll continue our study of boolean arithmetic.  For this question, your task is to provide a description of what happpens when you add booleans. \n",
    "\n",
    "Use the next code cell for your investigation.  Feel free to add or remove any lines of code - use it as your workspace!"
   ]
  },
  {
   "cell_type": "code",
   "execution_count": 9,
   "id": "eefbbe94",
   "metadata": {
    "execution": {
     "iopub.execute_input": "2024-09-27T11:58:59.229926Z",
     "iopub.status.busy": "2024-09-27T11:58:59.228964Z",
     "iopub.status.idle": "2024-09-27T11:58:59.235624Z",
     "shell.execute_reply": "2024-09-27T11:58:59.234431Z"
    },
    "papermill": {
     "duration": 0.018315,
     "end_time": "2024-09-27T11:58:59.238357",
     "exception": false,
     "start_time": "2024-09-27T11:58:59.220042",
     "status": "completed"
    },
    "tags": []
   },
   "outputs": [
    {
     "name": "stdout",
     "output_type": "stream",
     "text": [
      "0\n",
      "1\n",
      "1\n",
      "2\n",
      "3\n"
     ]
    }
   ],
   "source": [
    "print(False + False)\n",
    "print(True + False)\n",
    "print(False + True)\n",
    "print(True + True)\n",
    "print(False + True + True + True)"
   ]
  },
  {
   "cell_type": "markdown",
   "id": "705c8ac1",
   "metadata": {
    "papermill": {
     "duration": 0.007413,
     "end_time": "2024-09-27T11:58:59.253601",
     "exception": false,
     "start_time": "2024-09-27T11:58:59.246188",
     "status": "completed"
    },
    "tags": []
   },
   "source": [
    "Once you have an answer, run the code cell below to see the solution.  Viewing the solution will give you credit for answering the problem."
   ]
  },
  {
   "cell_type": "code",
   "execution_count": 10,
   "id": "cf75bb94",
   "metadata": {
    "execution": {
     "iopub.execute_input": "2024-09-27T11:58:59.271723Z",
     "iopub.status.busy": "2024-09-27T11:58:59.270530Z",
     "iopub.status.idle": "2024-09-27T11:58:59.279971Z",
     "shell.execute_reply": "2024-09-27T11:58:59.278875Z"
    },
    "papermill": {
     "duration": 0.021587,
     "end_time": "2024-09-27T11:58:59.282948",
     "exception": false,
     "start_time": "2024-09-27T11:58:59.261361",
     "status": "completed"
    },
    "tags": []
   },
   "outputs": [
    {
     "data": {
      "application/javascript": [
       "parent.postMessage({\"jupyterEvent\": \"custom.exercise_interaction\", \"data\": {\"outcomeType\": 1, \"valueTowardsCompletion\": 0.2, \"interactionType\": 1, \"questionType\": 4, \"questionId\": \"4_AddingBooleans\", \"learnToolsVersion\": \"0.3.4\", \"failureMessage\": \"\", \"exceptionClass\": \"\", \"trace\": \"\"}}, \"*\")"
      ],
      "text/plain": [
       "<IPython.core.display.Javascript object>"
      ]
     },
     "metadata": {},
     "output_type": "display_data"
    },
    {
     "data": {
      "text/markdown": [
       "<span style=\"color:#33cc33\">Correct:</span> \n",
       "\n",
       "When you add booleans, adding `False` is equivalent to adding 0, and adding `True` is equivalent to adding 1."
      ],
      "text/plain": [
       "Correct: \n",
       "\n",
       "When you add booleans, adding `False` is equivalent to adding 0, and adding `True` is equivalent to adding 1."
      ]
     },
     "metadata": {},
     "output_type": "display_data"
    }
   ],
   "source": [
    "# Check your answer (Run this code cell to receive credit!)\n",
    "q4.check()"
   ]
  },
  {
   "cell_type": "markdown",
   "id": "422c54c0",
   "metadata": {
    "papermill": {
     "duration": 0.009423,
     "end_time": "2024-09-27T11:58:59.305828",
     "exception": false,
     "start_time": "2024-09-27T11:58:59.296405",
     "status": "completed"
    },
    "tags": []
   },
   "source": [
    "# 🌶️ Question 5\n",
    "\n",
    "You own an online shop where you sell rings with custom engravings.  You offer both gold plated and solid gold rings.\n",
    "- Gold plated rings have a base cost of \\\\$50, and you charge \\\\$7 per engraved unit.  \n",
    "- Solid gold rings have a base cost of \\\\$100, and you charge \\\\$10 per engraved unit.\n",
    "- Spaces and punctuation are counted as engraved units.\n",
    "\n",
    "Write a function `cost_of_project()` that takes two arguments:\n",
    "- `engraving` - a Python string with the text of the engraving\n",
    "- `solid_gold` - a Boolean that indicates whether the ring is solid gold\n",
    "\n",
    "It should return the cost of the project.  This question should be fairly challenging, and you may need a hint."
   ]
  },
  {
   "cell_type": "code",
   "execution_count": 11,
   "id": "0102e069",
   "metadata": {
    "execution": {
     "iopub.execute_input": "2024-09-27T11:58:59.324774Z",
     "iopub.status.busy": "2024-09-27T11:58:59.323626Z",
     "iopub.status.idle": "2024-09-27T11:58:59.333678Z",
     "shell.execute_reply": "2024-09-27T11:58:59.332559Z"
    },
    "papermill": {
     "duration": 0.022584,
     "end_time": "2024-09-27T11:58:59.336797",
     "exception": false,
     "start_time": "2024-09-27T11:58:59.314213",
     "status": "completed"
    },
    "tags": []
   },
   "outputs": [
    {
     "data": {
      "application/javascript": [
       "parent.postMessage({\"jupyterEvent\": \"custom.exercise_interaction\", \"data\": {\"outcomeType\": 1, \"valueTowardsCompletion\": 0.2, \"interactionType\": 1, \"questionType\": 2, \"questionId\": \"5_CustomEngravings\", \"learnToolsVersion\": \"0.3.4\", \"failureMessage\": \"\", \"exceptionClass\": \"\", \"trace\": \"\"}}, \"*\")"
      ],
      "text/plain": [
       "<IPython.core.display.Javascript object>"
      ]
     },
     "metadata": {},
     "output_type": "display_data"
    },
    {
     "data": {
      "text/markdown": [
       "<span style=\"color:#33cc33\">Correct</span>"
      ],
      "text/plain": [
       "Correct"
      ]
     },
     "metadata": {},
     "output_type": "display_data"
    }
   ],
   "source": [
    "def cost_of_project(engraving, solid_gold):\n",
    "    cost = (7+3*solid_gold)*len(engraving)+50*(1+solid_gold)\n",
    "    return cost\n",
    "\n",
    "# Check your answer\n",
    "q5.check()"
   ]
  },
  {
   "cell_type": "code",
   "execution_count": 12,
   "id": "ae140d80",
   "metadata": {
    "execution": {
     "iopub.execute_input": "2024-09-27T11:58:59.360757Z",
     "iopub.status.busy": "2024-09-27T11:58:59.360221Z",
     "iopub.status.idle": "2024-09-27T11:58:59.365810Z",
     "shell.execute_reply": "2024-09-27T11:58:59.364482Z"
    },
    "papermill": {
     "duration": 0.018306,
     "end_time": "2024-09-27T11:58:59.368389",
     "exception": false,
     "start_time": "2024-09-27T11:58:59.350083",
     "status": "completed"
    },
    "tags": []
   },
   "outputs": [],
   "source": [
    "# Uncomment to see a hint\n",
    "#q5.hint()\n",
    "\n",
    "# Uncomment to view the solution\n",
    "#q5.solution()"
   ]
  },
  {
   "cell_type": "markdown",
   "id": "712ccc82",
   "metadata": {
    "papermill": {
     "duration": 0.007922,
     "end_time": "2024-09-27T11:58:59.385385",
     "exception": false,
     "start_time": "2024-09-27T11:58:59.377463",
     "status": "completed"
    },
    "tags": []
   },
   "source": [
    "Run the next code cell to calculate the cost of engraving `Charlie+Denver` on a solid gold ring."
   ]
  },
  {
   "cell_type": "code",
   "execution_count": 13,
   "id": "63ea26ba",
   "metadata": {
    "execution": {
     "iopub.execute_input": "2024-09-27T11:58:59.403972Z",
     "iopub.status.busy": "2024-09-27T11:58:59.403432Z",
     "iopub.status.idle": "2024-09-27T11:58:59.409744Z",
     "shell.execute_reply": "2024-09-27T11:58:59.408661Z"
    },
    "papermill": {
     "duration": 0.018782,
     "end_time": "2024-09-27T11:58:59.412479",
     "exception": false,
     "start_time": "2024-09-27T11:58:59.393697",
     "status": "completed"
    },
    "tags": []
   },
   "outputs": [
    {
     "name": "stdout",
     "output_type": "stream",
     "text": [
      "240\n"
     ]
    }
   ],
   "source": [
    "project_one = cost_of_project(\"Charlie+Denver\", True)\n",
    "print(project_one)"
   ]
  },
  {
   "cell_type": "markdown",
   "id": "97e1fe89",
   "metadata": {
    "papermill": {
     "duration": 0.008134,
     "end_time": "2024-09-27T11:58:59.430586",
     "exception": false,
     "start_time": "2024-09-27T11:58:59.422452",
     "status": "completed"
    },
    "tags": []
   },
   "source": [
    "Use the next code cell to calculate the cost of engraving `08/10/2000` on a gold plated ring."
   ]
  },
  {
   "cell_type": "code",
   "execution_count": 14,
   "id": "fa4d550e",
   "metadata": {
    "execution": {
     "iopub.execute_input": "2024-09-27T11:58:59.449949Z",
     "iopub.status.busy": "2024-09-27T11:58:59.448908Z",
     "iopub.status.idle": "2024-09-27T11:58:59.454908Z",
     "shell.execute_reply": "2024-09-27T11:58:59.453764Z"
    },
    "papermill": {
     "duration": 0.018634,
     "end_time": "2024-09-27T11:58:59.457582",
     "exception": false,
     "start_time": "2024-09-27T11:58:59.438948",
     "status": "completed"
    },
    "tags": []
   },
   "outputs": [
    {
     "name": "stdout",
     "output_type": "stream",
     "text": [
      "120\n"
     ]
    }
   ],
   "source": [
    "project_two = cost_of_project(\"08/10/2000\", False)\n",
    "print(project_two)"
   ]
  },
  {
   "cell_type": "markdown",
   "id": "7c8888fb",
   "metadata": {
    "papermill": {
     "duration": 0.008034,
     "end_time": "2024-09-27T11:58:59.474153",
     "exception": false,
     "start_time": "2024-09-27T11:58:59.466119",
     "status": "completed"
    },
    "tags": []
   },
   "source": [
    "# Keep going\n",
    "\n",
    "Continue to the next lesson to **[learn about conditions and conditional statements](https://www.kaggle.com/alexisbcook/conditions-and-conditional-statements)**."
   ]
  },
  {
   "cell_type": "markdown",
   "id": "4ee3d04a",
   "metadata": {
    "papermill": {
     "duration": 0.008261,
     "end_time": "2024-09-27T11:58:59.491155",
     "exception": false,
     "start_time": "2024-09-27T11:58:59.482894",
     "status": "completed"
    },
    "tags": []
   },
   "source": [
    "---\n",
    "\n",
    "\n",
    "\n",
    "\n",
    "*Have questions or comments? Visit the [course discussion forum](https://www.kaggle.com/learn/intro-to-programming/discussion) to chat with other learners.*"
   ]
  }
 ],
 "metadata": {
  "kaggle": {
   "accelerator": "none",
   "dataSources": [],
   "isGpuEnabled": false,
   "isInternetEnabled": false,
   "language": "python",
   "sourceType": "notebook"
  },
  "kernelspec": {
   "display_name": "Python 3",
   "language": "python",
   "name": "python3"
  },
  "language_info": {
   "codemirror_mode": {
    "name": "ipython",
    "version": 3
   },
   "file_extension": ".py",
   "mimetype": "text/x-python",
   "name": "python",
   "nbconvert_exporter": "python",
   "pygments_lexer": "ipython3",
   "version": "3.10.14"
  },
  "papermill": {
   "default_parameters": {},
   "duration": 4.940104,
   "end_time": "2024-09-27T11:59:00.020681",
   "environment_variables": {},
   "exception": null,
   "input_path": "__notebook__.ipynb",
   "output_path": "__notebook__.ipynb",
   "parameters": {},
   "start_time": "2024-09-27T11:58:55.080577",
   "version": "2.3.3"
  }
 },
 "nbformat": 4,
 "nbformat_minor": 5
}
