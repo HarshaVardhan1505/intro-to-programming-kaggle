{
 "cells": [
  {
   "cell_type": "markdown",
   "id": "2550e412",
   "metadata": {
    "papermill": {
     "duration": 0.006676,
     "end_time": "2024-09-27T12:28:36.443298",
     "exception": false,
     "start_time": "2024-09-27T12:28:36.436622",
     "status": "completed"
    },
    "tags": []
   },
   "source": [
    "**This notebook is an exercise in the [Intro to Programming](https://www.kaggle.com/learn/intro-to-programming) course.  You can reference the tutorial at [this link](https://www.kaggle.com/alexisbcook/intro-to-lists).**\n",
    "\n",
    "---\n"
   ]
  },
  {
   "cell_type": "markdown",
   "id": "67f5811e",
   "metadata": {
    "papermill": {
     "duration": 0.005276,
     "end_time": "2024-09-27T12:28:36.454441",
     "exception": false,
     "start_time": "2024-09-27T12:28:36.449165",
     "status": "completed"
    },
    "tags": []
   },
   "source": [
    "In the tutorial, you learned how to define and modify Python lists.  In this exercise, you will use your new knowledge to solve several problems.\n",
    "\n",
    "# Set up the notebook\n",
    "\n",
    "Run the next code cell without changes to set up the notebook."
   ]
  },
  {
   "cell_type": "code",
   "execution_count": 1,
   "id": "73dcf9a7",
   "metadata": {
    "execution": {
     "iopub.execute_input": "2024-09-27T12:28:36.467243Z",
     "iopub.status.busy": "2024-09-27T12:28:36.466751Z",
     "iopub.status.idle": "2024-09-27T12:28:37.205379Z",
     "shell.execute_reply": "2024-09-27T12:28:37.204121Z"
    },
    "papermill": {
     "duration": 0.748145,
     "end_time": "2024-09-27T12:28:37.207956",
     "exception": false,
     "start_time": "2024-09-27T12:28:36.459811",
     "status": "completed"
    },
    "tags": []
   },
   "outputs": [
    {
     "name": "stdout",
     "output_type": "stream",
     "text": [
      "Setup complete.\n"
     ]
    }
   ],
   "source": [
    "from learntools.core import binder\n",
    "binder.bind(globals())\n",
    "from learntools.intro_to_programming.ex5 import *\n",
    "print('Setup complete.')"
   ]
  },
  {
   "cell_type": "markdown",
   "id": "b38b289b",
   "metadata": {
    "papermill": {
     "duration": 0.00535,
     "end_time": "2024-09-27T12:28:37.219290",
     "exception": false,
     "start_time": "2024-09-27T12:28:37.213940",
     "status": "completed"
    },
    "tags": []
   },
   "source": [
    "# Question 1\n",
    "\n",
    "You own a restaurant with five food dishes, organized in the Python list `menu` below.  One day, you decide to:\n",
    "- remove bean soup (`'bean soup'`) from the menu, and\n",
    "- add roasted beet salad (`'roasted beet salad'`) to the menu.\n",
    "\n",
    "Implement this change to the list below.  While completing this task, \n",
    "- do not change the line that creates the `menu` list.  \n",
    "- your answer should use `.remove()` and `.append()`.  "
   ]
  },
  {
   "cell_type": "code",
   "execution_count": 2,
   "id": "f70207ac",
   "metadata": {
    "execution": {
     "iopub.execute_input": "2024-09-27T12:28:37.232556Z",
     "iopub.status.busy": "2024-09-27T12:28:37.231629Z",
     "iopub.status.idle": "2024-09-27T12:28:37.241893Z",
     "shell.execute_reply": "2024-09-27T12:28:37.240884Z"
    },
    "papermill": {
     "duration": 0.019497,
     "end_time": "2024-09-27T12:28:37.244320",
     "exception": false,
     "start_time": "2024-09-27T12:28:37.224823",
     "status": "completed"
    },
    "tags": []
   },
   "outputs": [
    {
     "data": {
      "application/javascript": [
       "parent.postMessage({\"jupyterEvent\": \"custom.exercise_interaction\", \"data\": {\"outcomeType\": 1, \"valueTowardsCompletion\": 0.2, \"interactionType\": 1, \"questionType\": 2, \"questionId\": \"1_FoodMenu\", \"learnToolsVersion\": \"0.3.4\", \"failureMessage\": \"\", \"exceptionClass\": \"\", \"trace\": \"\"}}, \"*\")"
      ],
      "text/plain": [
       "<IPython.core.display.Javascript object>"
      ]
     },
     "metadata": {},
     "output_type": "display_data"
    },
    {
     "data": {
      "text/markdown": [
       "<span style=\"color:#33cc33\">Correct</span>"
      ],
      "text/plain": [
       "Correct"
      ]
     },
     "metadata": {},
     "output_type": "display_data"
    }
   ],
   "source": [
    "# Do not change: Initial menu for your restaurant\n",
    "menu = ['stewed meat with onions', 'bean soup', 'risotto with trout and shrimp',\n",
    "       'fish soup with cream and onion', 'gyro']\n",
    "\n",
    "# TODO: remove 'bean soup', and add 'roasted beet salad' to the end of the menu\n",
    "menu.remove(\"bean soup\")\n",
    "menu.append(\"roasted beet salad\")\n",
    "\n",
    "# Do not change: Check your answer\n",
    "q1.check()"
   ]
  },
  {
   "cell_type": "code",
   "execution_count": 3,
   "id": "22349a7e",
   "metadata": {
    "execution": {
     "iopub.execute_input": "2024-09-27T12:28:37.257288Z",
     "iopub.status.busy": "2024-09-27T12:28:37.256914Z",
     "iopub.status.idle": "2024-09-27T12:28:37.261439Z",
     "shell.execute_reply": "2024-09-27T12:28:37.260469Z"
    },
    "papermill": {
     "duration": 0.013389,
     "end_time": "2024-09-27T12:28:37.263583",
     "exception": false,
     "start_time": "2024-09-27T12:28:37.250194",
     "status": "completed"
    },
    "tags": []
   },
   "outputs": [],
   "source": [
    "# Uncomment to see a hint\n",
    "#q1.hint()\n",
    "\n",
    "# Uncomment to see the solution\n",
    "#q1.solution()"
   ]
  },
  {
   "cell_type": "markdown",
   "id": "b50c873b",
   "metadata": {
    "papermill": {
     "duration": 0.005561,
     "end_time": "2024-09-27T12:28:37.275834",
     "exception": false,
     "start_time": "2024-09-27T12:28:37.270273",
     "status": "completed"
    },
    "tags": []
   },
   "source": [
    "# Question 2\n",
    "\n",
    "The list `num_customers` contains the number of customers who came into your restaurant every day over the last month (which lasted thirty days).  Fill in values for each of the following:\n",
    "- `avg_first_seven` - average number of customers who visited in the first seven days\n",
    "- `avg_last_seven` - average number of customers who visited in the last seven days\n",
    "- `max_month` - number of customers on the day that got the most customers in the last month\n",
    "- `min_month` - number of customers on the day that got the least customers in the last month\n",
    "\n",
    "Answer this question by writing code.  For instance, if you have to find the minimum value in a list, use `min()` instead of scanning for the smallest value and directly filling in a number."
   ]
  },
  {
   "cell_type": "code",
   "execution_count": 4,
   "id": "b1f9c29e",
   "metadata": {
    "execution": {
     "iopub.execute_input": "2024-09-27T12:28:37.289223Z",
     "iopub.status.busy": "2024-09-27T12:28:37.288856Z",
     "iopub.status.idle": "2024-09-27T12:28:37.298284Z",
     "shell.execute_reply": "2024-09-27T12:28:37.297362Z"
    },
    "papermill": {
     "duration": 0.018791,
     "end_time": "2024-09-27T12:28:37.300371",
     "exception": false,
     "start_time": "2024-09-27T12:28:37.281580",
     "status": "completed"
    },
    "tags": []
   },
   "outputs": [
    {
     "data": {
      "application/javascript": [
       "parent.postMessage({\"jupyterEvent\": \"custom.exercise_interaction\", \"data\": {\"outcomeType\": 1, \"valueTowardsCompletion\": 0.2, \"interactionType\": 1, \"questionType\": 1, \"questionId\": \"2_NumCustomers\", \"learnToolsVersion\": \"0.3.4\", \"failureMessage\": \"\", \"exceptionClass\": \"\", \"trace\": \"\"}}, \"*\")"
      ],
      "text/plain": [
       "<IPython.core.display.Javascript object>"
      ]
     },
     "metadata": {},
     "output_type": "display_data"
    },
    {
     "data": {
      "text/markdown": [
       "<span style=\"color:#33cc33\">Correct</span>"
      ],
      "text/plain": [
       "Correct"
      ]
     },
     "metadata": {},
     "output_type": "display_data"
    }
   ],
   "source": [
    "# Do not change: Number of customers each day for the last month\n",
    "num_customers = [137, 147, 135, 128, 170, 174, 165, 146, 126, 159,\n",
    "                 141, 148, 132, 147, 168, 153, 170, 161, 148, 152,\n",
    "                 141, 151, 131, 149, 164, 163, 143, 143, 166, 171]\n",
    "\n",
    "# TODO: Fill in values for the variables below\n",
    "avg_first_seven = sum(num_customers[:7])/7 \n",
    "avg_last_seven = sum(num_customers[-7:])/7\n",
    "max_month = max(num_customers)\n",
    "min_month = min(num_customers)\n",
    "\n",
    "# Do not change: Check your answer\n",
    "q2.check()"
   ]
  },
  {
   "cell_type": "code",
   "execution_count": 5,
   "id": "9af9b0be",
   "metadata": {
    "execution": {
     "iopub.execute_input": "2024-09-27T12:28:37.313864Z",
     "iopub.status.busy": "2024-09-27T12:28:37.313526Z",
     "iopub.status.idle": "2024-09-27T12:28:37.317938Z",
     "shell.execute_reply": "2024-09-27T12:28:37.316959Z"
    },
    "papermill": {
     "duration": 0.013676,
     "end_time": "2024-09-27T12:28:37.320045",
     "exception": false,
     "start_time": "2024-09-27T12:28:37.306369",
     "status": "completed"
    },
    "tags": []
   },
   "outputs": [],
   "source": [
    "# Uncomment to see a hint\n",
    "#q2.hint()\n",
    "\n",
    "# Uncomment to see the solution\n",
    "#q2.solution()"
   ]
  },
  {
   "cell_type": "markdown",
   "id": "c291a8bd",
   "metadata": {
    "papermill": {
     "duration": 0.00631,
     "end_time": "2024-09-27T12:28:37.333101",
     "exception": false,
     "start_time": "2024-09-27T12:28:37.326791",
     "status": "completed"
    },
    "tags": []
   },
   "source": [
    "# Question 3\n",
    "\n",
    "In the tutorial, we gave an example of a Python string with information that was better as a list."
   ]
  },
  {
   "cell_type": "code",
   "execution_count": 6,
   "id": "3cee338b",
   "metadata": {
    "execution": {
     "iopub.execute_input": "2024-09-27T12:28:37.346986Z",
     "iopub.status.busy": "2024-09-27T12:28:37.346535Z",
     "iopub.status.idle": "2024-09-27T12:28:37.351237Z",
     "shell.execute_reply": "2024-09-27T12:28:37.350227Z"
    },
    "papermill": {
     "duration": 0.014102,
     "end_time": "2024-09-27T12:28:37.353310",
     "exception": false,
     "start_time": "2024-09-27T12:28:37.339208",
     "status": "completed"
    },
    "tags": []
   },
   "outputs": [],
   "source": [
    "flowers = \"pink primrose,hard-leaved pocket orchid,canterbury bells,sweet pea,english marigold,tiger lily,moon orchid,bird of paradise,monkshood,globe thistle\""
   ]
  },
  {
   "cell_type": "markdown",
   "id": "afa3b48b",
   "metadata": {
    "papermill": {
     "duration": 0.006082,
     "end_time": "2024-09-27T12:28:37.365523",
     "exception": false,
     "start_time": "2024-09-27T12:28:37.359441",
     "status": "completed"
    },
    "tags": []
   },
   "source": [
    "You can actually use Python to quickly turn this string into a list with `.split()`.  In the parentheses, we need to provide the character should be used to mark the end of one list item and the beginning of another, and enclose it in quotation marks.  In this case, that character is a comma."
   ]
  },
  {
   "cell_type": "code",
   "execution_count": 7,
   "id": "bc5b520c",
   "metadata": {
    "execution": {
     "iopub.execute_input": "2024-09-27T12:28:37.379564Z",
     "iopub.status.busy": "2024-09-27T12:28:37.378894Z",
     "iopub.status.idle": "2024-09-27T12:28:37.384090Z",
     "shell.execute_reply": "2024-09-27T12:28:37.383004Z"
    },
    "papermill": {
     "duration": 0.014815,
     "end_time": "2024-09-27T12:28:37.386473",
     "exception": false,
     "start_time": "2024-09-27T12:28:37.371658",
     "status": "completed"
    },
    "tags": []
   },
   "outputs": [
    {
     "name": "stdout",
     "output_type": "stream",
     "text": [
      "['pink primrose', 'hard-leaved pocket orchid', 'canterbury bells', 'sweet pea', 'english marigold', 'tiger lily', 'moon orchid', 'bird of paradise', 'monkshood', 'globe thistle']\n"
     ]
    }
   ],
   "source": [
    " print(flowers.split(\",\"))"
   ]
  },
  {
   "cell_type": "markdown",
   "id": "ae546ced",
   "metadata": {
    "papermill": {
     "duration": 0.006226,
     "end_time": "2024-09-27T12:28:37.398937",
     "exception": false,
     "start_time": "2024-09-27T12:28:37.392711",
     "status": "completed"
    },
    "tags": []
   },
   "source": [
    "Now it is your turn to try this out!  Create two Python lists:\n",
    "- `letters` should be a Python list where each entry is an uppercase letter of the English alphabet.  For instance, the first two entries should be `\"A\"` and `\"B\"`, and the final two entries should be `\"Y\"` and `\"Z\"`.  Use the string `alphabet` to create this list.\n",
    "- `address` should be a Python list where each row in `address` is a different item in the list.  Currently, each row in `address` is separated by a comma. "
   ]
  },
  {
   "cell_type": "code",
   "execution_count": 8,
   "id": "b3bb95da",
   "metadata": {
    "execution": {
     "iopub.execute_input": "2024-09-27T12:28:37.413532Z",
     "iopub.status.busy": "2024-09-27T12:28:37.412740Z",
     "iopub.status.idle": "2024-09-27T12:28:37.421391Z",
     "shell.execute_reply": "2024-09-27T12:28:37.420459Z"
    },
    "papermill": {
     "duration": 0.018296,
     "end_time": "2024-09-27T12:28:37.423541",
     "exception": false,
     "start_time": "2024-09-27T12:28:37.405245",
     "status": "completed"
    },
    "tags": []
   },
   "outputs": [
    {
     "data": {
      "application/javascript": [
       "parent.postMessage({\"jupyterEvent\": \"custom.exercise_interaction\", \"data\": {\"outcomeType\": 1, \"valueTowardsCompletion\": 0.2, \"interactionType\": 1, \"questionType\": 1, \"questionId\": \"3_SplitString\", \"learnToolsVersion\": \"0.3.4\", \"failureMessage\": \"\", \"exceptionClass\": \"\", \"trace\": \"\"}}, \"*\")"
      ],
      "text/plain": [
       "<IPython.core.display.Javascript object>"
      ]
     },
     "metadata": {},
     "output_type": "display_data"
    },
    {
     "data": {
      "text/markdown": [
       "<span style=\"color:#33cc33\">Correct</span>"
      ],
      "text/plain": [
       "Correct"
      ]
     },
     "metadata": {},
     "output_type": "display_data"
    }
   ],
   "source": [
    "# DO not change: Define two Python strings\n",
    "alphabet = \"A.B.C.D.E.F.G.H.I.J.K.L.M.N.O.P.Q.R.S.T.U.V.W.X.Y.Z\"\n",
    "address = \"Mr. H. Potter,The cupboard under the Stairs,4 Privet Drive,Little Whinging,Surrey\"\n",
    "\n",
    "# TODO: Convert strings into Python lists\n",
    "letters = alphabet.split(\".\")\n",
    "formatted_address = address.split(\",\")\n",
    "\n",
    "# Do not change: Check your answer\n",
    "q3.check()"
   ]
  },
  {
   "cell_type": "code",
   "execution_count": 9,
   "id": "169b2157",
   "metadata": {
    "execution": {
     "iopub.execute_input": "2024-09-27T12:28:37.437664Z",
     "iopub.status.busy": "2024-09-27T12:28:37.437327Z",
     "iopub.status.idle": "2024-09-27T12:28:37.441627Z",
     "shell.execute_reply": "2024-09-27T12:28:37.440661Z"
    },
    "papermill": {
     "duration": 0.013833,
     "end_time": "2024-09-27T12:28:37.443776",
     "exception": false,
     "start_time": "2024-09-27T12:28:37.429943",
     "status": "completed"
    },
    "tags": []
   },
   "outputs": [],
   "source": [
    "# Uncomment to see a hint\n",
    "#q3.hint()\n",
    "\n",
    "# Uncomment to see the solution\n",
    "#q3.solution()"
   ]
  },
  {
   "cell_type": "markdown",
   "id": "790d277d",
   "metadata": {
    "papermill": {
     "duration": 0.006244,
     "end_time": "2024-09-27T12:28:37.456675",
     "exception": false,
     "start_time": "2024-09-27T12:28:37.450431",
     "status": "completed"
    },
    "tags": []
   },
   "source": [
    "# Question 4\n",
    "\n",
    "In the Python course, you'll learn all about **list comprehensions**, which allow you to create a list based on the values in another list.  In this question, you'll get a brief preview of how they work.\n",
    "\n",
    "Say we're working with the list below."
   ]
  },
  {
   "cell_type": "code",
   "execution_count": 10,
   "id": "6415b1b6",
   "metadata": {
    "execution": {
     "iopub.execute_input": "2024-09-27T12:28:37.471609Z",
     "iopub.status.busy": "2024-09-27T12:28:37.470642Z",
     "iopub.status.idle": "2024-09-27T12:28:37.475432Z",
     "shell.execute_reply": "2024-09-27T12:28:37.474358Z"
    },
    "papermill": {
     "duration": 0.014356,
     "end_time": "2024-09-27T12:28:37.477409",
     "exception": false,
     "start_time": "2024-09-27T12:28:37.463053",
     "status": "completed"
    },
    "tags": []
   },
   "outputs": [],
   "source": [
    "test_ratings = [1, 2, 3, 4, 5]"
   ]
  },
  {
   "cell_type": "markdown",
   "id": "f677599b",
   "metadata": {
    "papermill": {
     "duration": 0.006244,
     "end_time": "2024-09-27T12:28:37.490228",
     "exception": false,
     "start_time": "2024-09-27T12:28:37.483984",
     "status": "completed"
    },
    "tags": []
   },
   "source": [
    "Then we can use this list (`test_ratings`) to create a new list (`test_liked`) where each item has been turned into a boolean, depending on whether or not the item is greater than or equal to four."
   ]
  },
  {
   "cell_type": "code",
   "execution_count": 11,
   "id": "8b2a0766",
   "metadata": {
    "execution": {
     "iopub.execute_input": "2024-09-27T12:28:37.504502Z",
     "iopub.status.busy": "2024-09-27T12:28:37.504121Z",
     "iopub.status.idle": "2024-09-27T12:28:37.508982Z",
     "shell.execute_reply": "2024-09-27T12:28:37.507947Z"
    },
    "papermill": {
     "duration": 0.014986,
     "end_time": "2024-09-27T12:28:37.511613",
     "exception": false,
     "start_time": "2024-09-27T12:28:37.496627",
     "status": "completed"
    },
    "tags": []
   },
   "outputs": [
    {
     "name": "stdout",
     "output_type": "stream",
     "text": [
      "[False, False, False, True, True]\n"
     ]
    }
   ],
   "source": [
    "test_liked = [i>=4 for i in test_ratings]\n",
    "print(test_liked)"
   ]
  },
  {
   "cell_type": "markdown",
   "id": "aebb108a",
   "metadata": {
    "papermill": {
     "duration": 0.006322,
     "end_time": "2024-09-27T12:28:37.524661",
     "exception": false,
     "start_time": "2024-09-27T12:28:37.518339",
     "status": "completed"
    },
    "tags": []
   },
   "source": [
    "In this question, you'll use this list comprehension to define a function `percentage_liked()` that takes one argument as input:\n",
    "- `ratings`: list of ratings that people gave to a movie, where each rating is a number between 1-5, inclusive\n",
    "\n",
    "We say someone liked the movie, if they gave a rating of either 4 or 5.  Your function should return the percentage of people who liked the movie.\n",
    "\n",
    "For instance, if we supply a value of `[1, 2, 3, 4, 5, 4, 5, 1]`, then 50% (4/8) of the people liked the movie, and the function should return `0.5`.\n",
    "\n",
    "Part of the function has already been completed for you.  You need only use `list_liked` to calculate `percentage_liked`."
   ]
  },
  {
   "cell_type": "code",
   "execution_count": 12,
   "id": "8bce8d91",
   "metadata": {
    "execution": {
     "iopub.execute_input": "2024-09-27T12:28:37.539713Z",
     "iopub.status.busy": "2024-09-27T12:28:37.539005Z",
     "iopub.status.idle": "2024-09-27T12:28:37.548275Z",
     "shell.execute_reply": "2024-09-27T12:28:37.547254Z"
    },
    "papermill": {
     "duration": 0.019225,
     "end_time": "2024-09-27T12:28:37.550417",
     "exception": false,
     "start_time": "2024-09-27T12:28:37.531192",
     "status": "completed"
    },
    "tags": []
   },
   "outputs": [
    {
     "data": {
      "application/javascript": [
       "parent.postMessage({\"jupyterEvent\": \"custom.exercise_interaction\", \"data\": {\"outcomeType\": 1, \"valueTowardsCompletion\": 0.2, \"interactionType\": 1, \"questionType\": 2, \"questionId\": \"4_PercentageLiked\", \"learnToolsVersion\": \"0.3.4\", \"failureMessage\": \"\", \"exceptionClass\": \"\", \"trace\": \"\"}}, \"*\")"
      ],
      "text/plain": [
       "<IPython.core.display.Javascript object>"
      ]
     },
     "metadata": {},
     "output_type": "display_data"
    },
    {
     "data": {
      "text/markdown": [
       "<span style=\"color:#33cc33\">Correct</span>"
      ],
      "text/plain": [
       "Correct"
      ]
     },
     "metadata": {},
     "output_type": "display_data"
    }
   ],
   "source": [
    "\n",
    "def percentage_liked(ratings):\n",
    "    list_liked = [i>=4 for i in ratings]\n",
    "    # TODO: Complete the function\n",
    "    percentage_liked = sum(list_liked)/len(ratings)\n",
    "    return percentage_liked\n",
    "\n",
    "# Do not change: should return 0.5\n",
    "percentage_liked([1, 2, 3, 4, 5, 4, 5, 1])\n",
    "\n",
    "# Do not change: Check your answer\n",
    "q4.check()"
   ]
  },
  {
   "cell_type": "code",
   "execution_count": 13,
   "id": "9a8e8e4e",
   "metadata": {
    "execution": {
     "iopub.execute_input": "2024-09-27T12:28:37.566020Z",
     "iopub.status.busy": "2024-09-27T12:28:37.565399Z",
     "iopub.status.idle": "2024-09-27T12:28:37.569614Z",
     "shell.execute_reply": "2024-09-27T12:28:37.568731Z"
    },
    "papermill": {
     "duration": 0.014294,
     "end_time": "2024-09-27T12:28:37.571687",
     "exception": false,
     "start_time": "2024-09-27T12:28:37.557393",
     "status": "completed"
    },
    "tags": []
   },
   "outputs": [],
   "source": [
    "# Uncomment to see a hint\n",
    "#q4.hint()\n",
    "\n",
    "# Uncomment to see the solution\n",
    "#q4.solution()"
   ]
  },
  {
   "cell_type": "markdown",
   "id": "c11dcbc9",
   "metadata": {
    "papermill": {
     "duration": 0.006761,
     "end_time": "2024-09-27T12:28:37.585464",
     "exception": false,
     "start_time": "2024-09-27T12:28:37.578703",
     "status": "completed"
    },
    "tags": []
   },
   "source": [
    "# 🌶️ Question 5\n",
    " \n",
    "Say you're doing analytics for a website.  You need to write a function that returns the percentage growth in the total number of users relative to a specified number of years ago.\n",
    "\n",
    "Your function `percentage_growth()` should take two arguments as input:\n",
    "- `num_users` = Python list with the total number of users each year.  So `num_users[0]` is the total number of users in the first year, `num_users[1]` is the total number of users in the second year, and so on.  The final entry in the list gives the total number of users in the most recently completed year.\n",
    "- `yrs_ago` = number of years to go back in time when calculating the growth percentage\n",
    "\n",
    "For instance, say `num_users = [920344, 1043553, 1204334, 1458996, 1503323, 1593432, 1623463, 1843064, 1930992, 2001078]`.\n",
    "- if `yrs_ago = 1`, we want the function to return a value of about `0.036`. This corresponds to a percentage growth of approximately 3.6%, calculated as (2001078 - 1930992)/1930992.\n",
    "- if `years_ago = 7`, we would want to return approximately `0.66`.  This corresponds to a percentage growth of approximately 66%, calculated as (2001078 - 1204334)/1204334.\n",
    "\n",
    "Your coworker sent you a draft of a function, but it doesn't seem to be doing the correct calculation.  Can you figure out what has gone wrong and make the needed changes?"
   ]
  },
  {
   "cell_type": "code",
   "execution_count": 14,
   "id": "5868def7",
   "metadata": {
    "execution": {
     "iopub.execute_input": "2024-09-27T12:28:37.601324Z",
     "iopub.status.busy": "2024-09-27T12:28:37.600392Z",
     "iopub.status.idle": "2024-09-27T12:28:37.610989Z",
     "shell.execute_reply": "2024-09-27T12:28:37.610066Z"
    },
    "papermill": {
     "duration": 0.020873,
     "end_time": "2024-09-27T12:28:37.613266",
     "exception": false,
     "start_time": "2024-09-27T12:28:37.592393",
     "status": "completed"
    },
    "tags": []
   },
   "outputs": [
    {
     "name": "stdout",
     "output_type": "stream",
     "text": [
      "0.03629533421163837\n",
      "0.6615639847417742\n"
     ]
    },
    {
     "data": {
      "application/javascript": [
       "parent.postMessage({\"jupyterEvent\": \"custom.exercise_interaction\", \"data\": {\"outcomeType\": 1, \"valueTowardsCompletion\": 0.2, \"interactionType\": 1, \"questionType\": 2, \"questionId\": \"5_WebsiteAnalytics\", \"learnToolsVersion\": \"0.3.4\", \"failureMessage\": \"\", \"exceptionClass\": \"\", \"trace\": \"\"}}, \"*\")"
      ],
      "text/plain": [
       "<IPython.core.display.Javascript object>"
      ]
     },
     "metadata": {},
     "output_type": "display_data"
    },
    {
     "data": {
      "text/markdown": [
       "<span style=\"color:#33cc33\">Correct</span>"
      ],
      "text/plain": [
       "Correct"
      ]
     },
     "metadata": {},
     "output_type": "display_data"
    }
   ],
   "source": [
    "# TODO: Edit the function\n",
    "def percentage_growth(num_users, yrs_ago):\n",
    "    growth = (num_users[-1] - num_users[-(yrs_ago+1)])/num_users[-(yrs_ago+1)]\n",
    "    return growth\n",
    "\n",
    "# Do not change: Variable for calculating some test examples\n",
    "num_users_test = [920344, 1043553, 1204334, 1458996, 1503323, 1593432, 1623463, 1843064, 1930992, 2001078]\n",
    "\n",
    "# Do not change: Should return .036\n",
    "print(percentage_growth(num_users_test, 1))\n",
    "\n",
    "# Do not change: Should return 0.66\n",
    "print(percentage_growth(num_users_test, 7))\n",
    "\n",
    "# Do not change: Check your answer\n",
    "q5.check()"
   ]
  },
  {
   "cell_type": "code",
   "execution_count": 15,
   "id": "befacd77",
   "metadata": {
    "execution": {
     "iopub.execute_input": "2024-09-27T12:28:37.629270Z",
     "iopub.status.busy": "2024-09-27T12:28:37.628641Z",
     "iopub.status.idle": "2024-09-27T12:28:37.632866Z",
     "shell.execute_reply": "2024-09-27T12:28:37.631883Z"
    },
    "papermill": {
     "duration": 0.014589,
     "end_time": "2024-09-27T12:28:37.635012",
     "exception": false,
     "start_time": "2024-09-27T12:28:37.620423",
     "status": "completed"
    },
    "tags": []
   },
   "outputs": [],
   "source": [
    "# Uncomment to see a hint\n",
    "#q5.hint()\n",
    "\n",
    "# Uncomment to see the solution\n",
    "#q5.solution()"
   ]
  },
  {
   "cell_type": "markdown",
   "id": "e852ad4e",
   "metadata": {
    "papermill": {
     "duration": 0.006924,
     "end_time": "2024-09-27T12:28:37.649306",
     "exception": false,
     "start_time": "2024-09-27T12:28:37.642382",
     "status": "completed"
    },
    "tags": []
   },
   "source": [
    "# Congratulations!\n",
    "\n",
    "Congratulations for finishing the Intro to Programming course!  You should be proud of your very first steps with learning programming.  As next steps, we recommend taking:\n",
    "- the **[Python course](http://www.kaggle.com/learn/python)**, and \n",
    "- the **[Intro to Machine Learning course](https://www.kaggle.com/learn/intro-to-machine-learning)**."
   ]
  },
  {
   "cell_type": "markdown",
   "id": "a992da32",
   "metadata": {
    "papermill": {
     "duration": 0.007101,
     "end_time": "2024-09-27T12:28:37.664010",
     "exception": false,
     "start_time": "2024-09-27T12:28:37.656909",
     "status": "completed"
    },
    "tags": []
   },
   "source": [
    "---\n",
    "\n",
    "\n",
    "\n",
    "\n",
    "*Have questions or comments? Visit the [course discussion forum](https://www.kaggle.com/learn/intro-to-programming/discussion) to chat with other learners.*"
   ]
  }
 ],
 "metadata": {
  "kaggle": {
   "accelerator": "none",
   "dataSources": [],
   "isGpuEnabled": false,
   "isInternetEnabled": false,
   "language": "python",
   "sourceType": "notebook"
  },
  "kernelspec": {
   "display_name": "Python 3",
   "language": "python",
   "name": "python3"
  },
  "language_info": {
   "codemirror_mode": {
    "name": "ipython",
    "version": 3
   },
   "file_extension": ".py",
   "mimetype": "text/x-python",
   "name": "python",
   "nbconvert_exporter": "python",
   "pygments_lexer": "ipython3",
   "version": "3.10.14"
  },
  "papermill": {
   "default_parameters": {},
   "duration": 4.140956,
   "end_time": "2024-09-27T12:28:38.091116",
   "environment_variables": {},
   "exception": null,
   "input_path": "__notebook__.ipynb",
   "output_path": "__notebook__.ipynb",
   "parameters": {},
   "start_time": "2024-09-27T12:28:33.950160",
   "version": "2.6.0"
  }
 },
 "nbformat": 4,
 "nbformat_minor": 5
}
